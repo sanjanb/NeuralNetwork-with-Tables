{
  "nbformat": 4,
  "nbformat_minor": 0,
  "metadata": {
    "colab": {
      "provenance": [],
      "collapsed_sections": [
        "eGJ4gCA4KYE4",
        "WghBPxMdKJXf",
        "Fn0_22SDP87a",
        "kKSnhhJWB70o"
      ],
      "include_colab_link": true
    },
    "kernelspec": {
      "name": "python3",
      "display_name": "Python 3"
    },
    "language_info": {
      "name": "python"
    },
    "accelerator": "GPU",
    "gpuClass": "standard"
  },
  "cells": [
    {
      "cell_type": "markdown",
      "metadata": {
        "id": "view-in-github",
        "colab_type": "text"
      },
      "source": [
        "<a href=\"https://colab.research.google.com/github/sanjanb/NeuralNetwork-with-Tables/blob/main/TensorFlow2_0_FashionMNIST.ipynb\" target=\"_parent\"><img src=\"https://colab.research.google.com/assets/colab-badge.svg\" alt=\"Open In Colab\"/></a>"
      ]
    },
    {
      "cell_type": "markdown",
      "metadata": {
        "id": "WIZfMCH3Jegv"
      },
      "source": [
        "[![Open In Colab](https://colab.research.google.com/assets/colab-badge.svg)](https://colab.research.google.com/drive/1q71mw_g4Oldak1bah4GcM-gVNeiIAKGz?usp=sharing)"
      ]
    },
    {
      "cell_type": "markdown",
      "metadata": {
        "id": "eGJ4gCA4KYE4"
      },
      "source": [
        "## Loading and analysing Fashion MNIST dataset"
      ]
    },
    {
      "cell_type": "code",
      "metadata": {
        "id": "ap4L82SoIbWf",
        "colab": {
          "base_uri": "https://localhost:8080/"
        },
        "outputId": "00eec030-bfb0-4f65-dd5b-03c8e6167fa5"
      },
      "source": [
        "import tensorflow as tf\n",
        "from tensorflow.keras import datasets, layers, models\n",
        "import numpy as np\n",
        "import matplotlib.pylab as plt\n",
        "\n",
        "(train_images, train_labels), (test_images, test_labels) = tf.keras.datasets.fashion_mnist.load_data()\n"
      ],
      "execution_count": null,
      "outputs": [
        {
          "output_type": "stream",
          "name": "stdout",
          "text": [
            "Downloading data from https://storage.googleapis.com/tensorflow/tf-keras-datasets/train-labels-idx1-ubyte.gz\n",
            "29515/29515 [==============================] - 0s 0us/step\n",
            "Downloading data from https://storage.googleapis.com/tensorflow/tf-keras-datasets/train-images-idx3-ubyte.gz\n",
            "26421880/26421880 [==============================] - 0s 0us/step\n",
            "Downloading data from https://storage.googleapis.com/tensorflow/tf-keras-datasets/t10k-labels-idx1-ubyte.gz\n",
            "5148/5148 [==============================] - 0s 0us/step\n",
            "Downloading data from https://storage.googleapis.com/tensorflow/tf-keras-datasets/t10k-images-idx3-ubyte.gz\n",
            "4422102/4422102 [==============================] - 0s 0us/step\n"
          ]
        }
      ]
    },
    {
      "cell_type": "markdown",
      "metadata": {
        "id": "MX5pwHNbBMrz"
      },
      "source": [
        "**Confirm type and dimensions of the dataset**"
      ]
    },
    {
      "cell_type": "code",
      "metadata": {
        "id": "ebSHfDgGIhQM",
        "colab": {
          "base_uri": "https://localhost:8080/"
        },
        "outputId": "ab22dbff-df07-4124-8c83-e289a551cc34"
      },
      "source": [
        "type(train_images)"
      ],
      "execution_count": null,
      "outputs": [
        {
          "output_type": "execute_result",
          "data": {
            "text/plain": [
              "numpy.ndarray"
            ]
          },
          "metadata": {},
          "execution_count": 2
        }
      ]
    },
    {
      "cell_type": "code",
      "metadata": {
        "id": "gqcWURO4Irbo",
        "colab": {
          "base_uri": "https://localhost:8080/"
        },
        "outputId": "042b92a3-4e1f-4d0b-929e-bcfd9c980dec"
      },
      "source": [
        "train_images.shape"
      ],
      "execution_count": null,
      "outputs": [
        {
          "output_type": "execute_result",
          "data": {
            "text/plain": [
              "(60000, 28, 28)"
            ]
          },
          "metadata": {},
          "execution_count": 3
        }
      ]
    },
    {
      "cell_type": "code",
      "metadata": {
        "id": "v2SUNvKrI2RP",
        "colab": {
          "base_uri": "https://localhost:8080/"
        },
        "outputId": "42d4f97e-584a-4990-e41f-326765dd1a19"
      },
      "source": [
        "test_images.shape"
      ],
      "execution_count": null,
      "outputs": [
        {
          "output_type": "execute_result",
          "data": {
            "text/plain": [
              "(10000, 28, 28)"
            ]
          },
          "metadata": {},
          "execution_count": 4
        }
      ]
    },
    {
      "cell_type": "markdown",
      "metadata": {
        "id": "VGuQVbA1JTPM"
      },
      "source": [
        "**How many instances do we have of each of the different classes?**"
      ]
    },
    {
      "cell_type": "code",
      "metadata": {
        "id": "GGGcK9OGI4Rl",
        "colab": {
          "base_uri": "https://localhost:8080/"
        },
        "outputId": "3ac9f90e-89c9-492a-adee-943ee0935e3f"
      },
      "source": [
        "np.unique(train_labels, return_counts=True)"
      ],
      "execution_count": null,
      "outputs": [
        {
          "output_type": "execute_result",
          "data": {
            "text/plain": [
              "(array([0, 1, 2, 3, 4, 5, 6, 7, 8, 9], dtype=uint8),\n",
              " array([6000, 6000, 6000, 6000, 6000, 6000, 6000, 6000, 6000, 6000]))"
            ]
          },
          "metadata": {},
          "execution_count": 5
        }
      ]
    },
    {
      "cell_type": "code",
      "metadata": {
        "id": "8CwOVTMuMSfu"
      },
      "source": [
        "class_names = ['T-shirt/top', 'Trouser', 'Pullover', 'Dress', 'Coat',\n",
        "               'Sandal', 'Shirt', 'Sneaker', 'Bag', 'Ankle boot']"
      ],
      "execution_count": null,
      "outputs": []
    },
    {
      "cell_type": "markdown",
      "metadata": {
        "id": "WghBPxMdKJXf"
      },
      "source": [
        "## An overview of the images\n"
      ]
    },
    {
      "cell_type": "code",
      "metadata": {
        "id": "v83v_MQrJGPR",
        "colab": {
          "base_uri": "https://localhost:8080/"
        },
        "outputId": "e85252e5-afe6-4b40-8b62-d39c6c09a136"
      },
      "source": [
        "# Get 16 images at random\n",
        "import random\n",
        "random.seed(1)\n",
        "train_idx = list(range(len(train_labels)))\n",
        "sampler = random.sample(train_idx, 16)\n",
        "sampler"
      ],
      "execution_count": null,
      "outputs": [
        {
          "output_type": "execute_result",
          "data": {
            "text/plain": [
              "[8805,\n",
              " 37303,\n",
              " 55537,\n",
              " 52577,\n",
              " 50054,\n",
              " 4135,\n",
              " 16716,\n",
              " 7727,\n",
              " 32468,\n",
              " 49870,\n",
              " 29457,\n",
              " 30949,\n",
              " 42702,\n",
              " 24878,\n",
              " 51689,\n",
              " 13759]"
            ]
          },
          "metadata": {},
          "execution_count": 7
        }
      ]
    },
    {
      "cell_type": "code",
      "metadata": {
        "id": "ae5I_i2NLMYg",
        "colab": {
          "base_uri": "https://localhost:8080/",
          "height": 589
        },
        "outputId": "65c97416-87f0-4b5f-da2e-e610fb548f35"
      },
      "source": [
        "plt.figure(figsize=(10, 10))\n",
        "for i in range(len(sampler)):\n",
        " plt.subplot(4,4,i+1)\n",
        " plt.xticks([])\n",
        " plt.yticks([])\n",
        " plt.grid(False)\n",
        " plt.imshow(train_images[sampler[i]], cmap=plt.cm.binary)\n",
        " plt.xlabel(class_names[train_labels[sampler[i]]])\n",
        "plt.show()\n"
      ],
      "execution_count": null,
      "outputs": [
        {
          "output_type": "display_data",
          "data": {
            "text/plain": [
              "<Figure size 720x720 with 16 Axes>"
            ],
            "image/png": "[encoded data removed]"
          },
          "metadata": {}
        }
      ]
    },
    {
      "cell_type": "markdown",
      "metadata": {
        "id": "_oijYUBt__lh"
      },
      "source": [
        "**What does one image look like?**"
      ]
    },
    {
      "cell_type": "code",
      "metadata": {
        "id": "Q_y4upVPIe8_",
        "colab": {
          "base_uri": "https://localhost:8080/",
          "height": 269
        },
        "outputId": "c7d9cee2-d7ac-4b30-f3ae-25d4eb309c3b"
      },
      "source": [
        "random_image_id = 1\n",
        "plt.figure()\n",
        "plt.imshow(train_images[random_image_id],cmap=plt.cm.binary)\n",
        "plt.colorbar()\n",
        "plt.grid(False)\n",
        "plt.show()"
      ],
      "execution_count": null,
      "outputs": [
        {
          "output_type": "display_data",
          "data": {
            "text/plain": [
              "<Figure size 432x288 with 2 Axes>"
            ],
            "image/png": "[encoded data removed]"
          },
          "metadata": {
            "needs_background": "light"
          }
        }
      ]
    },
    {
      "cell_type": "code",
      "metadata": {
        "id": "21_hgve7-Dnr",
        "colab": {
          "base_uri": "https://localhost:8080/",
          "height": 36
        },
        "outputId": "27be4d35-d3af-4125-8361-fe2ba9e1bedc"
      },
      "source": [
        "class_names[train_labels[random_image_id]]"
      ],
      "execution_count": null,
      "outputs": [
        {
          "output_type": "execute_result",
          "data": {
            "text/plain": [
              "'T-shirt/top'"
            ],
            "application/vnd.google.colaboratory.intrinsic+json": {
              "type": "string"
            }
          },
          "metadata": {},
          "execution_count": 18
        }
      ]
    },
    {
      "cell_type": "code",
      "metadata": {
        "id": "vw-zJYAf_Bjl",
        "colab": {
          "base_uri": "https://localhost:8080/"
        },
        "outputId": "835ade86-049b-4051-b4db-a8c55959ad5e"
      },
      "source": [
        "train_images[random_image_id]"
      ],
      "execution_count": null,
      "outputs": [
        {
          "output_type": "execute_result",
          "data": {
            "text/plain": [
              "array([[0.        , 0.        , 0.        , 0.        , 0.        ,\n",
              "        0.00392157, 0.        , 0.        , 0.        , 0.        ,\n",
              "        0.16078431, 0.7372549 , 0.40392157, 0.21176471, 0.18823529,\n",
              "        0.16862745, 0.34117647, 0.65882353, 0.52156863, 0.0627451 ,\n",
              "        0.        , 0.        , 0.        , 0.        , 0.        ,\n",
              "        0.        , 0.        , 0.        ],\n",
              "       [0.        , 0.        , 0.        , 0.00392157, 0.        ,\n",
              "        0.        , 0.        , 0.19215686, 0.53333333, 0.85882353,\n",
              "        0.84705882, 0.89411765, 0.9254902 , 1.        , 1.        ,\n",
              "        1.        , 1.        , 0.85098039, 0.84313725, 0.99607843,\n",
              "        0.90588235, 0.62745098, 0.17647059, 0.        , 0.        ,\n",
              "        0.        , 0.        , 0.        ],\n",
              "       [0.        , 0.        , 0.        , 0.        , 0.        ,\n",
              "        0.05490196, 0.69019608, 0.87058824, 0.87843137, 0.83137255,\n",
              "        0.79607843, 0.77647059, 0.76862745, 0.78431373, 0.84313725,\n",
              "        0.8       , 0.79215686, 0.78823529, 0.78823529, 0.78823529,\n",
              "        0.81960784, 0.85490196, 0.87843137, 0.64313725, 0.        ,\n",
              "        0.        , 0.        , 0.        ],\n",
              "       [0.        , 0.        , 0.        , 0.        , 0.        ,\n",
              "        0.7372549 , 0.85882353, 0.78431373, 0.77647059, 0.79215686,\n",
              "        0.77647059, 0.78039216, 0.78039216, 0.78823529, 0.76862745,\n",
              "        0.77647059, 0.77647059, 0.78431373, 0.78431373, 0.78431373,\n",
              "        0.78431373, 0.78823529, 0.78431373, 0.88235294, 0.16078431,\n",
              "        0.        , 0.        , 0.        ],\n",
              "       [0.        , 0.        , 0.        , 0.        , 0.2       ,\n",
              "        0.85882353, 0.78039216, 0.79607843, 0.79607843, 0.83137255,\n",
              "        0.93333333, 0.97254902, 0.98039216, 0.96078431, 0.97647059,\n",
              "        0.96470588, 0.96862745, 0.98823529, 0.97254902, 0.92156863,\n",
              "        0.81176471, 0.79607843, 0.79607843, 0.87058824, 0.54901961,\n",
              "        0.        , 0.        , 0.        ],\n",
              "       [0.        , 0.        , 0.        , 0.        , 0.45490196,\n",
              "        0.88627451, 0.80784314, 0.8       , 0.81176471, 0.8       ,\n",
              "        0.39607843, 0.29411765, 0.18431373, 0.28627451, 0.18823529,\n",
              "        0.19607843, 0.17647059, 0.2       , 0.24705882, 0.44313725,\n",
              "        0.87058824, 0.79215686, 0.80784314, 0.8627451 , 0.87843137,\n",
              "        0.        , 0.        , 0.        ],\n",
              "       [0.        , 0.        , 0.        , 0.        , 0.78431373,\n",
              "        0.87058824, 0.81960784, 0.79607843, 0.84313725, 0.78431373,\n",
              "        0.        , 0.2745098 , 0.38431373, 0.        , 0.40392157,\n",
              "        0.23137255, 0.26666667, 0.27843137, 0.19215686, 0.        ,\n",
              "        0.85882353, 0.80784314, 0.83921569, 0.82352941, 0.98039216,\n",
              "        0.14901961, 0.        , 0.        ],\n",
              "       [0.        , 0.        , 0.        , 0.        , 0.96862745,\n",
              "        0.85490196, 0.83137255, 0.82352941, 0.84313725, 0.83921569,\n",
              "        0.        , 0.99607843, 0.95294118, 0.54509804, 1.        ,\n",
              "        0.68235294, 0.98431373, 1.        , 0.80392157, 0.        ,\n",
              "        0.84313725, 0.85098039, 0.83921569, 0.81568627, 0.8627451 ,\n",
              "        0.37254902, 0.        , 0.        ],\n",
              "       [0.        , 0.        , 0.        , 0.17647059, 0.88627451,\n",
              "        0.83921569, 0.83921569, 0.84313725, 0.87843137, 0.80392157,\n",
              "        0.        , 0.16470588, 0.1372549 , 0.23529412, 0.0627451 ,\n",
              "        0.06666667, 0.04705882, 0.05098039, 0.2745098 , 0.        ,\n",
              "        0.74117647, 0.84705882, 0.83137255, 0.80784314, 0.83137255,\n",
              "        0.61176471, 0.        , 0.        ],\n",
              "       [0.        , 0.        , 0.        , 0.64313725, 0.92156863,\n",
              "        0.83921569, 0.82745098, 0.8627451 , 0.84705882, 0.78823529,\n",
              "        0.20392157, 0.27843137, 0.34901961, 0.36862745, 0.3254902 ,\n",
              "        0.30588235, 0.2745098 , 0.29803922, 0.36078431, 0.34117647,\n",
              "        0.80784314, 0.81176471, 0.87058824, 0.83529412, 0.85882353,\n",
              "        0.81568627, 0.        , 0.        ],\n",
              "       [0.        , 0.        , 0.        , 0.41568627, 0.73333333,\n",
              "        0.8745098 , 0.92941176, 0.97254902, 0.82745098, 0.77647059,\n",
              "        0.98823529, 0.98039216, 0.97254902, 0.96078431, 0.97254902,\n",
              "        0.98823529, 0.99215686, 0.98039216, 0.98823529, 0.9372549 ,\n",
              "        0.78823529, 0.83137255, 0.88235294, 0.84313725, 0.75686275,\n",
              "        0.44313725, 0.        , 0.        ],\n",
              "       [0.        , 0.        , 0.        , 0.        , 0.        ,\n",
              "        0.06666667, 0.21176471, 0.62352941, 0.87058824, 0.75686275,\n",
              "        0.81568627, 0.75294118, 0.77254902, 0.78431373, 0.78431373,\n",
              "        0.78431373, 0.78431373, 0.78823529, 0.79607843, 0.76470588,\n",
              "        0.82352941, 0.64705882, 0.        , 0.        , 0.        ,\n",
              "        0.        , 0.        , 0.        ],\n",
              "       [0.        , 0.        , 0.        , 0.        , 0.        ,\n",
              "        0.        , 0.        , 0.18431373, 0.88235294, 0.75294118,\n",
              "        0.83921569, 0.79607843, 0.80784314, 0.8       , 0.8       ,\n",
              "        0.80392157, 0.80784314, 0.8       , 0.83137255, 0.77254902,\n",
              "        0.85490196, 0.41960784, 0.        , 0.        , 0.        ,\n",
              "        0.        , 0.        , 0.        ],\n",
              "       [0.        , 0.        , 0.        , 0.        , 0.00392157,\n",
              "        0.02352941, 0.        , 0.18039216, 0.83137255, 0.76470588,\n",
              "        0.83137255, 0.79215686, 0.80784314, 0.80392157, 0.8       ,\n",
              "        0.80392157, 0.80784314, 0.8       , 0.83137255, 0.78431373,\n",
              "        0.85490196, 0.35686275, 0.        , 0.01176471, 0.00392157,\n",
              "        0.        , 0.        , 0.        ],\n",
              "       [0.        , 0.        , 0.        , 0.        , 0.        ,\n",
              "        0.00392157, 0.        , 0.04313725, 0.77254902, 0.78039216,\n",
              "        0.80392157, 0.79215686, 0.80392157, 0.80784314, 0.8       ,\n",
              "        0.80392157, 0.81176471, 0.8       , 0.80392157, 0.80392157,\n",
              "        0.85490196, 0.30196078, 0.        , 0.01960784, 0.        ,\n",
              "        0.        , 0.        , 0.        ],\n",
              "       [0.        , 0.        , 0.        , 0.        , 0.        ,\n",
              "        0.01176471, 0.        , 0.00784314, 0.74901961, 0.77647059,\n",
              "        0.78823529, 0.80392157, 0.80784314, 0.80392157, 0.80392157,\n",
              "        0.80784314, 0.81960784, 0.80784314, 0.78039216, 0.81960784,\n",
              "        0.85882353, 0.29019608, 0.        , 0.01960784, 0.        ,\n",
              "        0.        , 0.        , 0.        ],\n",
              "       [0.        , 0.        , 0.        , 0.        , 0.        ,\n",
              "        0.00784314, 0.        , 0.        , 0.7372549 , 0.77254902,\n",
              "        0.78431373, 0.81176471, 0.81176471, 0.8       , 0.81176471,\n",
              "        0.81176471, 0.82352941, 0.81568627, 0.77647059, 0.81176471,\n",
              "        0.86666667, 0.28235294, 0.        , 0.01568627, 0.        ,\n",
              "        0.        , 0.        , 0.        ],\n",
              "       [0.        , 0.        , 0.        , 0.        , 0.        ,\n",
              "        0.00784314, 0.        , 0.        , 0.84313725, 0.77647059,\n",
              "        0.79607843, 0.80784314, 0.81568627, 0.80392157, 0.81176471,\n",
              "        0.81176471, 0.82352941, 0.81568627, 0.78431373, 0.79215686,\n",
              "        0.87058824, 0.29411765, 0.        , 0.01568627, 0.        ,\n",
              "        0.        , 0.        , 0.        ],\n",
              "       [0.        , 0.        , 0.        , 0.        , 0.        ,\n",
              "        0.00392157, 0.        , 0.        , 0.83137255, 0.77647059,\n",
              "        0.81960784, 0.80784314, 0.81960784, 0.80784314, 0.81568627,\n",
              "        0.81176471, 0.82745098, 0.80784314, 0.80392157, 0.77647059,\n",
              "        0.86666667, 0.31372549, 0.        , 0.01176471, 0.        ,\n",
              "        0.        , 0.        , 0.        ],\n",
              "       [0.        , 0.        , 0.        , 0.        , 0.        ,\n",
              "        0.00392157, 0.        , 0.        , 0.8       , 0.78823529,\n",
              "        0.80392157, 0.81568627, 0.81176471, 0.80392157, 0.82745098,\n",
              "        0.80392157, 0.82352941, 0.82352941, 0.81960784, 0.76470588,\n",
              "        0.86666667, 0.37647059, 0.        , 0.01176471, 0.        ,\n",
              "        0.        , 0.        , 0.        ],\n",
              "       [0.        , 0.        , 0.        , 0.        , 0.        ,\n",
              "        0.00392157, 0.        , 0.        , 0.79215686, 0.78823529,\n",
              "        0.80392157, 0.81960784, 0.81176471, 0.80392157, 0.83529412,\n",
              "        0.80784314, 0.82352941, 0.81960784, 0.82352941, 0.76078431,\n",
              "        0.85098039, 0.41176471, 0.        , 0.00784314, 0.        ,\n",
              "        0.        , 0.        , 0.        ],\n",
              "       [0.        , 0.        , 0.        , 0.        , 0.        ,\n",
              "        0.00392157, 0.        , 0.        , 0.8       , 0.8       ,\n",
              "        0.80392157, 0.81568627, 0.81176471, 0.80392157, 0.84313725,\n",
              "        0.81176471, 0.82352941, 0.81568627, 0.82745098, 0.75686275,\n",
              "        0.83529412, 0.45098039, 0.        , 0.00784314, 0.        ,\n",
              "        0.        , 0.        , 0.        ],\n",
              "       [0.        , 0.        , 0.        , 0.        , 0.        ,\n",
              "        0.        , 0.        , 0.        , 0.8       , 0.81176471,\n",
              "        0.81176471, 0.81568627, 0.80784314, 0.80784314, 0.84313725,\n",
              "        0.82352941, 0.82352941, 0.81176471, 0.83137255, 0.76470588,\n",
              "        0.82352941, 0.4627451 , 0.        , 0.00784314, 0.        ,\n",
              "        0.        , 0.        , 0.        ],\n",
              "       [0.        , 0.        , 0.        , 0.        , 0.        ,\n",
              "        0.00392157, 0.        , 0.        , 0.77647059, 0.81568627,\n",
              "        0.81568627, 0.81568627, 0.8       , 0.81176471, 0.83137255,\n",
              "        0.83137255, 0.82352941, 0.81176471, 0.82745098, 0.76862745,\n",
              "        0.81176471, 0.4745098 , 0.        , 0.00392157, 0.        ,\n",
              "        0.        , 0.        , 0.        ],\n",
              "       [0.        , 0.        , 0.        , 0.        , 0.        ,\n",
              "        0.00392157, 0.        , 0.        , 0.77647059, 0.82352941,\n",
              "        0.81176471, 0.81568627, 0.80784314, 0.81960784, 0.83529412,\n",
              "        0.83137255, 0.82745098, 0.81176471, 0.82352941, 0.77254902,\n",
              "        0.81176471, 0.48627451, 0.        , 0.00392157, 0.        ,\n",
              "        0.        , 0.        , 0.        ],\n",
              "       [0.        , 0.        , 0.        , 0.        , 0.        ,\n",
              "        0.        , 0.        , 0.        , 0.6745098 , 0.82352941,\n",
              "        0.79607843, 0.78823529, 0.78039216, 0.8       , 0.81176471,\n",
              "        0.80392157, 0.8       , 0.78823529, 0.80392157, 0.77254902,\n",
              "        0.80784314, 0.49803922, 0.        , 0.        , 0.        ,\n",
              "        0.        , 0.        , 0.        ],\n",
              "       [0.        , 0.        , 0.        , 0.        , 0.        ,\n",
              "        0.        , 0.        , 0.        , 0.7372549 , 0.86666667,\n",
              "        0.83921569, 0.91764706, 0.9254902 , 0.93333333, 0.95686275,\n",
              "        0.95686275, 0.95686275, 0.94117647, 0.95294118, 0.83921569,\n",
              "        0.87843137, 0.63529412, 0.        , 0.00784314, 0.        ,\n",
              "        0.        , 0.        , 0.        ],\n",
              "       [0.        , 0.        , 0.        , 0.        , 0.        ,\n",
              "        0.00392157, 0.        , 0.        , 0.54509804, 0.57254902,\n",
              "        0.50980392, 0.52941176, 0.52941176, 0.5372549 , 0.49019608,\n",
              "        0.48627451, 0.49019608, 0.4745098 , 0.46666667, 0.44705882,\n",
              "        0.50980392, 0.29803922, 0.        , 0.        , 0.        ,\n",
              "        0.        , 0.        , 0.        ]])"
            ]
          },
          "metadata": {},
          "execution_count": 19
        }
      ]
    },
    {
      "cell_type": "markdown",
      "metadata": {
        "id": "Fn0_22SDP87a"
      },
      "source": [
        "## Build, compile and train the model"
      ]
    },
    {
      "cell_type": "code",
      "metadata": {
        "id": "pv-cMB5PAERF"
      },
      "source": [
        "(train_images, train_labels), (test_images, test_labels) = tf.keras.datasets.fashion_mnist.load_data()\n",
        "train_images = train_images / 255.0\n",
        "test_images = test_images / 255.0"
      ],
      "execution_count": null,
      "outputs": []
    },
    {
      "cell_type": "code",
      "metadata": {
        "id": "p04Kd-_zKYpY",
        "colab": {
          "base_uri": "https://localhost:8080/",
          "height": 269
        },
        "outputId": "1e0dec98-42ee-41b6-e821-d7fa627ca655"
      },
      "source": [
        "plt.figure()\n",
        "plt.imshow(train_images[8], cmap=plt.cm.binary)\n",
        "plt.colorbar()\n",
        "plt.grid(False)\n",
        "plt.show()"
      ],
      "execution_count": null,
      "outputs": [
        {
          "output_type": "display_data",
          "data": {
            "text/plain": [
              "<Figure size 432x288 with 2 Axes>"
            ],
            "image/png": "[encoded data removed]"
          },
          "metadata": {
            "needs_background": "light"
          }
        }
      ]
    },
    {
      "cell_type": "code",
      "metadata": {
        "id": "4rb8bR7DMcGE",
        "colab": {
          "base_uri": "https://localhost:8080/"
        },
        "outputId": "b2c3c829-84d0-4f78-b795-298ec99318d6"
      },
      "source": [
        "#build\n",
        "model = tf.keras.Sequential([\n",
        "  tf.keras.layers.Flatten(input_shape=(28, 28)),\n",
        "  tf.keras.layers.Dense(128, activation='relu'),\n",
        "  tf.keras.layers.Dense(64, activation='relu'),\n",
        "  tf.keras.layers.Dense(10),\n",
        "  ])\n",
        "#compile\n",
        "model.compile(optimizer='adam',\n",
        "              loss=tf.keras.losses.SparseCategoricalCrossentropy(from_logits=True),\n",
        "              metrics=['accuracy'])\n",
        "#train\n",
        "model.fit(train_images, train_labels, epochs=10, batch_size=64, validation_split=0.1)"
      ],
      "execution_count": null,
      "outputs": [
        {
          "output_type": "stream",
          "name": "stdout",
          "text": [
            "Epoch 1/10\n",
            "844/844 [==============================] - 3s 3ms/step - loss: 0.5277 - accuracy: 0.8127 - val_loss: 0.4181 - val_accuracy: 0.8523\n",
            "Epoch 2/10\n",
            "844/844 [==============================] - 4s 5ms/step - loss: 0.3850 - accuracy: 0.8616 - val_loss: 0.3571 - val_accuracy: 0.8667\n",
            "Epoch 3/10\n",
            "844/844 [==============================] - 4s 5ms/step - loss: 0.3416 - accuracy: 0.8757 - val_loss: 0.3477 - val_accuracy: 0.8733\n",
            "Epoch 4/10\n",
            "844/844 [==============================] - 3s 3ms/step - loss: 0.3180 - accuracy: 0.8830 - val_loss: 0.3679 - val_accuracy: 0.8638\n",
            "Epoch 5/10\n",
            "844/844 [==============================] - 3s 4ms/step - loss: 0.3009 - accuracy: 0.8878 - val_loss: 0.3221 - val_accuracy: 0.8818\n",
            "Epoch 6/10\n",
            "844/844 [==============================] - 3s 4ms/step - loss: 0.2876 - accuracy: 0.8928 - val_loss: 0.3212 - val_accuracy: 0.8812\n",
            "Epoch 7/10\n",
            "844/844 [==============================] - 3s 3ms/step - loss: 0.2726 - accuracy: 0.8988 - val_loss: 0.3447 - val_accuracy: 0.8740\n",
            "Epoch 8/10\n",
            "844/844 [==============================] - 2s 3ms/step - loss: 0.2636 - accuracy: 0.9015 - val_loss: 0.3355 - val_accuracy: 0.8795\n",
            "Epoch 9/10\n",
            "844/844 [==============================] - 3s 3ms/step - loss: 0.2517 - accuracy: 0.9052 - val_loss: 0.3255 - val_accuracy: 0.8827\n",
            "Epoch 10/10\n",
            "844/844 [==============================] - 3s 4ms/step - loss: 0.2425 - accuracy: 0.9091 - val_loss: 0.3248 - val_accuracy: 0.8833\n"
          ]
        },
        {
          "output_type": "execute_result",
          "data": {
            "text/plain": [
              "<keras.callbacks.History at 0x7f7227b655b0>"
            ]
          },
          "metadata": {},
          "execution_count": 21
        }
      ]
    },
    {
      "cell_type": "code",
      "metadata": {
        "id": "oY0TkxcuQoLo",
        "colab": {
          "base_uri": "https://localhost:8080/",
          "height": 121
        },
        "outputId": "bb0d51d2-2ae9-461a-eef5-3421bfeddf74"
      },
      "source": [
        "# FashionMNIST\n",
        "tf.keras.utils.plot_model(model, show_shapes=True, rankdir=\"LR\")"
      ],
      "execution_count": null,
      "outputs": [
        {
          "output_type": "execute_result",
          "data": {
            "image/png": "[encoded data removed]",
            "text/plain": [
              "<IPython.core.display.Image object>"
            ]
          },
          "metadata": {},
          "execution_count": 15
        }
      ]
    },
    {
      "cell_type": "markdown",
      "metadata": {
        "id": "kKSnhhJWB70o"
      },
      "source": [
        "## Make predictions\n"
      ]
    },
    {
      "cell_type": "code",
      "metadata": {
        "id": "V3NZjub5VP1Z",
        "colab": {
          "base_uri": "https://localhost:8080/",
          "height": 276
        },
        "outputId": "37f8e557-500f-44da-e886-52dd82dc08cf"
      },
      "source": [
        "image_id = 10 # Pick an image id between 0 and 9999 inclusive\n",
        "\n",
        "probability_model = tf.keras.Sequential([model, tf.keras.layers.Softmax()])\n",
        "predictions = probability_model.predict(test_images)\n",
        "\n",
        "def plot_image(i, predictions_array, true_label, img):\n",
        "  true_label, img = true_label[i], img[i]\n",
        "  plt.grid(False)\n",
        "  plt.xticks([])\n",
        "  plt.yticks([])\n",
        "\n",
        "  plt.imshow(img, cmap=plt.cm.binary)\n",
        "\n",
        "  predicted_label = np.argmax(predictions_array)\n",
        "  if predicted_label == true_label:\n",
        "    color = 'green'\n",
        "  else:\n",
        "    color = 'red'\n",
        "\n",
        "  plt.xlabel(f\"{class_names[predicted_label]} {100*np.max(predictions_array):2.0f}% ({class_names[true_label]})\", color=color)\n",
        "\n",
        "def plot_value_array(i, predictions_array, true_label):\n",
        "  true_label = true_label[i]\n",
        "  plt.grid(False)\n",
        "  plt.xticks(range(10))\n",
        "  plt.yticks(range(10))\n",
        "  thisplot = plt.bar(range(10), predictions_array, color=\"#777777\")\n",
        "  plt.ylim([0, 1])\n",
        "  predicted_label = np.argmax(predictions_array)\n",
        "\n",
        "  thisplot[predicted_label].set_color('red')\n",
        "  thisplot[true_label].set_color('green')\n",
        "\n",
        "plt.figure(figsize=(6,3))\n",
        "plt.subplot(1,2,1)\n",
        "plot_image(image_id, predictions[image_id], test_labels, test_images)\n",
        "plt.subplot(1,2,2)\n",
        "plot_value_array(image_id, predictions[image_id],  test_labels)\n",
        "_ = plt.xticks(range(10), class_names, rotation=90)\n",
        "plt.show()"
      ],
      "execution_count": null,
      "outputs": [
        {
          "output_type": "stream",
          "name": "stdout",
          "text": [
            "313/313 [==============================] - 0s 1ms/step\n"
          ]
        },
        {
          "output_type": "display_data",
          "data": {
            "text/plain": [
              "<Figure size 432x216 with 2 Axes>"
            ],
            "image/png": "[encoded data removed]"
          },
          "metadata": {
            "needs_background": "light"
          }
        }
      ]
    }
  ]
}